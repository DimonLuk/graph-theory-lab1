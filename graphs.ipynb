{
 "cells": [
  {
   "cell_type": "code",
   "execution_count": null,
   "metadata": {},
   "outputs": [],
   "source": [
    "import numpy as np\n",
    "import pandas as pd"
   ]
  },
  {
   "cell_type": "markdown",
   "metadata": {},
   "source": [
    "Task 1"
   ]
  },
  {
   "cell_type": "code",
   "execution_count": null,
   "metadata": {},
   "outputs": [],
   "source": [
    "adjecency = np.array([\n",
    "    [0, 1, 0, 0, 0, 0, 1, 1, 1],\n",
    "    [1, 0, 1, 0, 0, 0, 0, 1, 0],\n",
    "    [0, 1, 0, 1, 0, 0, 0, 0, 1],\n",
    "    [0, 0, 1, 0, 1, 0, 0, 0, 1],\n",
    "    [0, 0, 0, 1, 0, 1, 1, 0, 0],\n",
    "    [0, 0, 0, 0, 1, 0, 1, 0, 1],\n",
    "    [1, 0, 0, 0, 1, 1, 0, 0, 1],\n",
    "    [1, 1, 0, 0, 0, 0, 0, 0, 1],\n",
    "    [1, 0, 1, 1, 0, 1, 1, 1, 0],\n",
    "])"
   ]
  },
  {
   "cell_type": "code",
   "execution_count": null,
   "metadata": {},
   "outputs": [],
   "source": [
    "def csvify(data, filename, index_name=\"\"):\n",
    "    df = pd.DataFrame(data=data, columns=range(1, data.shape[1] + 1), index=[index_name + str(x) for x in range(1, data.shape[0] + 1)])\n",
    "    df.to_csv(filename)"
   ]
  },
  {
   "cell_type": "code",
   "execution_count": null,
   "metadata": {},
   "outputs": [],
   "source": [
    "csvify(adjecency, \"adjacency.csv\")"
   ]
  },
  {
   "cell_type": "code",
   "execution_count": null,
   "metadata": {},
   "outputs": [],
   "source": [
    "def adjacency_to_incidence(adjacency):\n",
    "    edges = []\n",
    "    for row in range(adjacency.shape[0]):\n",
    "        for column in range(adjacency.shape[1]):\n",
    "            if row == column:\n",
    "                continue\n",
    "            elif adjacency[row][column] == 1:\n",
    "                if (column, row) not in edges:\n",
    "                    edges.append((row, column))\n",
    "    incidence = np.zeros((len(edges), adjacency.shape[0]), dtype=\"int\")\n",
    "    for index, edge in enumerate(edges):\n",
    "        incidence[index][edge[0]] = 1\n",
    "        incidence[index][edge[1]] = 1\n",
    "        # print((edge[0] + 1), edge[1] + 1, index + 1)\n",
    "    return incidence"
   ]
  },
  {
   "cell_type": "code",
   "execution_count": null,
   "metadata": {},
   "outputs": [],
   "source": [
    "incedence_matrix = adjacency_to_incidence(adjecency)\n",
    "incedence_matrix"
   ]
  },
  {
   "cell_type": "code",
   "execution_count": null,
   "metadata": {},
   "outputs": [],
   "source": [
    "incedence_matrix.shape"
   ]
  },
  {
   "cell_type": "code",
   "execution_count": null,
   "metadata": {},
   "outputs": [],
   "source": [
    "csvify(incedence_matrix, \"incedence_matrix.csv\", index_name=\"e\")"
   ]
  },
  {
   "cell_type": "markdown",
   "metadata": {},
   "source": [
    "Task 2"
   ]
  },
  {
   "cell_type": "code",
   "execution_count": null,
   "metadata": {},
   "outputs": [],
   "source": [
    "degree_matrix = np.diag(np.sum(incedence_matrix, axis=0))\n",
    "degree_matrix"
   ]
  },
  {
   "cell_type": "code",
   "execution_count": null,
   "metadata": {},
   "outputs": [],
   "source": [
    "csvify(degree_matrix, \"degree_matrix.csv\")"
   ]
  },
  {
   "cell_type": "code",
   "execution_count": null,
   "metadata": {},
   "outputs": [],
   "source": [
    "kirghof_matrix = degree_matrix - adjecency"
   ]
  },
  {
   "cell_type": "code",
   "execution_count": null,
   "metadata": {},
   "outputs": [],
   "source": [
    "kirghof_matrix"
   ]
  },
  {
   "cell_type": "code",
   "execution_count": null,
   "metadata": {},
   "outputs": [],
   "source": [
    "csvify(kirghof_matrix, \"kirghof_matrix.csv\")"
   ]
  },
  {
   "cell_type": "code",
   "execution_count": null,
   "metadata": {},
   "outputs": [],
   "source": [
    "i = 0\n",
    "j = 0"
   ]
  },
  {
   "cell_type": "code",
   "execution_count": null,
   "metadata": {},
   "outputs": [],
   "source": [
    "kirghof_minor = np.delete(np.delete(kirghof_matrix, i, axis=0), j, axis=1)"
   ]
  },
  {
   "cell_type": "code",
   "execution_count": null,
   "metadata": {},
   "outputs": [],
   "source": [
    "algebraic_extension = np.power(-1, i + j + 2) * np.linalg.det(kirghof_minor)\n",
    "np.round(algebraic_extension, 0)"
   ]
  },
  {
   "cell_type": "markdown",
   "metadata": {},
   "source": [
    "Task 3"
   ]
  },
  {
   "cell_type": "code",
   "execution_count": null,
   "metadata": {},
   "outputs": [],
   "source": [
    "extension_graph_adjacency = (~(adjecency == 1)).astype(\"int\")\n",
    "extension_graph_incidence = adjacency_to_incidence(extension_graph_adjacency)\n",
    "extension_graph_incidence"
   ]
  },
  {
   "cell_type": "code",
   "execution_count": null,
   "metadata": {},
   "outputs": [],
   "source": [
    "csvify(extension_graph_incidence, \"extension_graph_incidence.csv\", index_name=\"e\")"
   ]
  },
  {
   "cell_type": "code",
   "execution_count": null,
   "metadata": {},
   "outputs": [],
   "source": [
    "line_graph_adjacency_matrix = incedence_matrix.dot(incedence_matrix.T) - 2 * np.diag([1] * incedence_matrix.shape[0])\n",
    "line_graph_adjacency_matrix"
   ]
  },
  {
   "cell_type": "code",
   "execution_count": null,
   "metadata": {},
   "outputs": [],
   "source": [
    "csvify(line_graph_adjacency_matrix, \"lgraph_adj.csv\")"
   ]
  },
  {
   "cell_type": "code",
   "execution_count": null,
   "metadata": {},
   "outputs": [],
   "source": [
    "result = incedence_matrix.dot(incedence_matrix.T) - line_graph_adjacency_matrix\n",
    "result"
   ]
  },
  {
   "cell_type": "code",
   "execution_count": null,
   "metadata": {},
   "outputs": [],
   "source": [
    "csvify(result, \"result.csv\")"
   ]
  },
  {
   "cell_type": "markdown",
   "metadata": {},
   "source": [
    "Tasks 4, 5"
   ]
  },
  {
   "cell_type": "code",
   "execution_count": null,
   "metadata": {},
   "outputs": [],
   "source": [
    "adjacency_no_loops = np.array([\n",
    "    [0, 1, 0, 0, 0, 0, 1, 1, 1],\n",
    "    [0, 0, 1, 0, 0, 0, 0, 1, 0],\n",
    "    [0, 0, 0, 1, 0, 0, 0, 0, 1],\n",
    "    [0, 0, 0, 0, 1, 0, 0, 0, 1],\n",
    "    [0, 0, 0, 0, 0, 1, 1, 0, 0],\n",
    "    [0, 0, 0, 0, 0, 0, 1, 0, 1],\n",
    "    [0, 0, 0, 0, 0, 0, 0, 0, 1],\n",
    "    [0, 0, 0, 0, 0, 0, 0, 0, 1],\n",
    "    [0, 0, 0, 0, 0, 0, 0, 0, 0],\n",
    "])"
   ]
  },
  {
   "cell_type": "code",
   "execution_count": null,
   "metadata": {},
   "outputs": [],
   "source": [
    "csvify(adjacency_no_loops, \"adjacency_no_loops.csv\")"
   ]
  },
  {
   "cell_type": "code",
   "execution_count": null,
   "metadata": {},
   "outputs": [],
   "source": [
    "def adjacency_to_incidence_directed(adjacency):\n",
    "    edges = []\n",
    "    for row in range(adjacency.shape[0]):\n",
    "        for column in range(adjacency.shape[1]):\n",
    "            if row == column:\n",
    "                continue\n",
    "            elif adjacency[row][column] == 1:\n",
    "                edges.append((row, column))\n",
    "    incidence = np.zeros((len(edges), adjacency.shape[0]), dtype=\"int\")\n",
    "    for index, edge in enumerate(edges):\n",
    "        incidence[index][edge[0]] = 1\n",
    "        incidence[index][edge[1]] = -1\n",
    "    return incidence"
   ]
  },
  {
   "cell_type": "code",
   "execution_count": null,
   "metadata": {},
   "outputs": [],
   "source": [
    "incidence_no_loops = adjacency_to_incidence_directed(adjacency_no_loops)\n",
    "incidence_no_loops"
   ]
  },
  {
   "cell_type": "code",
   "execution_count": null,
   "metadata": {},
   "outputs": [],
   "source": [
    "csvify(incidence_no_loops, \"incidence_no_loops.csv\", index_name=\"e\")"
   ]
  },
  {
   "cell_type": "code",
   "execution_count": null,
   "metadata": {},
   "outputs": [],
   "source": [
    "adjacency_loop = np.array([\n",
    "    [0, 1, 0, 0, 0, 0, 0, 1, 1],\n",
    "    [0, 0, 1, 0, 0, 0, 0, 1, 0],\n",
    "    [0, 0, 0, 1, 0, 0, 0, 0, 1],\n",
    "    [0, 0, 0, 0, 1, 0, 0, 0, 1],\n",
    "    [0, 0, 0, 0, 0, 1, 1, 0, 0],\n",
    "    [0, 0, 0, 0, 0, 0, 1, 0, 1],\n",
    "    [1, 0, 0, 0, 0, 0, 0, 0, 1],\n",
    "    [0, 0, 0, 0, 0, 0, 0, 0, 1],\n",
    "    [0, 0, 0, 0, 0, 0, 0, 0, 0],\n",
    "])"
   ]
  },
  {
   "cell_type": "code",
   "execution_count": null,
   "metadata": {},
   "outputs": [],
   "source": [
    "csvify(adjacency_loop, \"adjacency_loop.csv\")"
   ]
  },
  {
   "cell_type": "code",
   "execution_count": null,
   "metadata": {},
   "outputs": [],
   "source": [
    "incidence_loop = adjacency_to_incidence_directed(adjacency_loop)\n",
    "incidence_loop"
   ]
  },
  {
   "cell_type": "code",
   "execution_count": null,
   "metadata": {},
   "outputs": [],
   "source": [
    "csvify(incidence_loop, \"incidence_loop.csv\", index_name=\"e\")"
   ]
  },
  {
   "cell_type": "markdown",
   "metadata": {},
   "source": [
    "Task 6"
   ]
  },
  {
   "cell_type": "code",
   "execution_count": null,
   "metadata": {},
   "outputs": [],
   "source": [
    "def adjacency_power(adjacency, power=10):\n",
    "    result = adjacency\n",
    "    for i in range(power - 1):\n",
    "        result = result.dot(result)\n",
    "    return result"
   ]
  },
  {
   "cell_type": "code",
   "execution_count": null,
   "metadata": {},
   "outputs": [],
   "source": [
    "adj_pow_no_loops = adjacency_power(adjacency_no_loops, power=3)\n",
    "adj_pow_no_loops"
   ]
  },
  {
   "cell_type": "code",
   "execution_count": null,
   "metadata": {},
   "outputs": [],
   "source": [
    "csvify(adj_pow_no_loops, \"adj_pow_no_loops.csv\")"
   ]
  },
  {
   "cell_type": "code",
   "execution_count": null,
   "metadata": {},
   "outputs": [],
   "source": [
    "adj_pow_loop = adjacency_power(adjacency_loop, power=3)\n",
    "adj_pow_loop"
   ]
  },
  {
   "cell_type": "code",
   "execution_count": null,
   "metadata": {},
   "outputs": [],
   "source": [
    "csvify(adj_pow_loop, \"adj_pow_loop.csv\")"
   ]
  },
  {
   "cell_type": "markdown",
   "metadata": {},
   "source": [
    "Task 7"
   ]
  },
  {
   "cell_type": "code",
   "execution_count": null,
   "metadata": {},
   "outputs": [],
   "source": [
    "no_loops_result = adjacency_no_loops + adjacency_no_loops.T + incidence_no_loops.T.dot(incidence_no_loops)\n",
    "no_loops_result"
   ]
  },
  {
   "cell_type": "code",
   "execution_count": null,
   "metadata": {},
   "outputs": [],
   "source": [
    "csvify(no_loops_result, \"no_loops_result.csv\")"
   ]
  },
  {
   "cell_type": "code",
   "execution_count": null,
   "metadata": {},
   "outputs": [],
   "source": [
    "np.diag(np.sum(np.abs(incidence_no_loops), axis=0))"
   ]
  },
  {
   "cell_type": "code",
   "execution_count": null,
   "metadata": {},
   "outputs": [],
   "source": [
    "loop_result = adjacency_loop + adjacency_loop.T + incidence_loop.T.dot(incidence_loop)\n",
    "loop_result"
   ]
  },
  {
   "cell_type": "code",
   "execution_count": null,
   "metadata": {},
   "outputs": [],
   "source": [
    "csvify(loop_result, \"loop_result.csv\")"
   ]
  },
  {
   "cell_type": "code",
   "execution_count": null,
   "metadata": {},
   "outputs": [],
   "source": [
    "np.diag(np.sum(np.abs(incidence_loop), axis=0))"
   ]
  }
 ],
 "metadata": {
  "kernelspec": {
   "display_name": "Python 3",
   "language": "python",
   "name": "python3"
  },
  "language_info": {
   "codemirror_mode": {
    "name": "ipython",
    "version": 3
   },
   "file_extension": ".py",
   "mimetype": "text/x-python",
   "name": "python",
   "nbconvert_exporter": "python",
   "pygments_lexer": "ipython3",
   "version": "3.7.0"
  }
 },
 "nbformat": 4,
 "nbformat_minor": 2
}
